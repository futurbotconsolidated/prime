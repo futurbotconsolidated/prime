{
  "nbformat": 4,
  "nbformat_minor": 0,
  "metadata": {
    "colab": {
      "name": "question1.ipynb",
      "provenance": []
    },
    "kernelspec": {
      "name": "python3",
      "display_name": "Python 3"
    },
    "language_info": {
      "name": "python"
    }
  },
  "cells": [
    {
      "cell_type": "code",
      "execution_count": null,
      "metadata": {
        "id": "RUrjUu66TzJF"
      },
      "outputs": [],
      "source": [
        "num = int(input('Enter a positive integer: '))\n",
        "def prime_number(num):\n",
        "  if num<=0:\n",
        "    print('we need a positive integer')\n",
        "  elif num==1:\n",
        "    return 'N'\n",
        "  elif num>1:\n",
        "    for i in range(2,int(num/2)+1):\n",
        "      if num%i==0:\n",
        "        return 'N'\n",
        "        break\n",
        "    else:\n",
        "      return 'Y'\n",
        "\n",
        "prime_number(num)"
      ]
    },
    {
      "cell_type": "markdown",
      "source": [
        "#### Roll No: 20285756024\n",
        "#### Name: Isha Aggarwal\n",
        "#### Residential Address: A-1/66 Sector-8 Rohini Delhi\n",
        "#### Email id: isha.aggarwal@iic.ac.in\n"
      ],
      "metadata": {
        "id": "O-_mFzc5UgT1"
      }
    },
    {
      "cell_type": "code",
      "source": [
        ""
      ],
      "metadata": {
        "id": "CYyjzysXUe5v"
      },
      "execution_count": null,
      "outputs": []
    }
  ]
}