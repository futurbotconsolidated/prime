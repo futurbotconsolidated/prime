{
  "nbformat": 4,
  "nbformat_minor": 0,
  "metadata": {
    "colab": {
      "name": "ques1.ipynb",
      "provenance": []
    },
    "kernelspec": {
      "name": "python3",
      "display_name": "Python 3"
    },
    "language_info": {
      "name": "python"
    }
  },
  "cells": [
    {
      "cell_type": "code",
      "source": [
        "\n",
        "num = int(input('Enter a positive integer: '))\n",
        "def prime_number(num):\n",
        "  if num<=0:\n",
        "    print('we need a positive integer')\n",
        "  elif num==1:\n",
        "    return 'N'\n",
        "  elif num>1:\n",
        "    for i in range(2,int(num/2)+1):\n",
        "      if num%i==0:\n",
        "        return 'N'\n",
        "        break\n",
        "    else:\n",
        "      return 'Y'\n",
        "\n",
        "prime_number(num)"
      ],
      "metadata": {
        "id": "lzGMiYmzsnfh",
        "colab": {
          "base_uri": "https://localhost:8080/",
          "height": 53
        },
        "outputId": "6a1fb2fd-aed1-49e4-bf0d-cf8f22ff0a76"
      },
      "execution_count": 9,
      "outputs": [
        {
          "name": "stdout",
          "output_type": "stream",
          "text": [
            "Enter a positive integer: 11\n"
          ]
        },
        {
          "output_type": "execute_result",
          "data": {
            "application/vnd.google.colaboratory.intrinsic+json": {
              "type": "string"
            },
            "text/plain": [
              "'Y'"
            ]
          },
          "metadata": {},
          "execution_count": 9
        }
      ]
    },
    {
      "cell_type": "markdown",
      "source": [
        "####Roll No: 20285756024\n",
        "####Name: Isha Aggarwal\n",
        "####Residential Address: A-1/66, Sector-8, Rohini, Delhi\n",
        "####Email id: isha.aggarwal@iic.ac.in"
      ],
      "metadata": {
        "id": "vAldXs8svKW1"
      }
    }
  ]
}